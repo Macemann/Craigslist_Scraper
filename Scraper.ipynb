{
 "cells": [
  {
   "cell_type": "code",
   "execution_count": 38,
   "metadata": {
    "collapsed": false
   },
   "outputs": [],
   "source": [
    "import requests\n",
    "import csv\n",
    "from bs4 import BeautifulSoup"
   ]
  },
  {
   "cell_type": "code",
   "execution_count": 55,
   "metadata": {
    "collapsed": false
   },
   "outputs": [
    {
     "data": {
      "text/plain": [
       "'\\nfor price in data1:\\n    for neighborhood in data2:\\n        for size in data3:\\n            print price[0], neighborhood.contents[1], size.contents[0]\\n'"
      ]
     },
     "execution_count": 55,
     "metadata": {},
     "output_type": "execute_result"
    }
   ],
   "source": [
    "url = \"http://washingtondc.craigslist.org/search/apa?s=0\"\n",
    "r = requests.get(url)\n",
    "\n",
    "soup = BeautifulSoup(r.content, \"lxml\")\n",
    "#print soup\n",
    "\n",
    "price_data = []\n",
    "data1 = soup.find_all(\"span\", {\"class\":\"price\"})\n",
    "for price in data1:\n",
    "    price_data.append(price.contents[0])\n",
    "    \n",
    "neighborhood_data = []\n",
    "data2 = soup.find_all(\"span\", {\"class\": \"pnr\"})\n",
    "for neighborhood in data2:\n",
    "    neighborhood_data.append(neighborhood.contents[1].contents[0])\n",
    "\n",
    "size_data = []\n",
    "data3 = soup.find_all(\"span\", {\"class\": \"housing\"})\n",
    "for size in data3:\n",
    "    size_data.append(size.contents[0])\n",
    "    \n",
    "data = zip(price_data,neighborhood_data,size_data)\n",
    "#print data\n",
    "\n",
    "with open(\"scraper_output.csv\",\"wb\") as output:\n",
    "    csv_out=csv.writer(output)\n",
    "    csv_out.writerow([\"Price\",\"Neighborhood\",\"Size\"])\n",
    "    for row in data:\n",
    "        csv_out.writerow(row)\n",
    "\n",
    "\"\"\"\n",
    "for price in data1:\n",
    "    for neighborhood in data2:\n",
    "        for size in data3:\n",
    "            print price[0], neighborhood.contents[1], size.contents[0]\n",
    "\"\"\"\n"
   ]
  },
  {
   "cell_type": "code",
   "execution_count": null,
   "metadata": {
    "collapsed": true
   },
   "outputs": [],
   "source": []
  }
 ],
 "metadata": {
  "kernelspec": {
   "display_name": "Python 2",
   "language": "python",
   "name": "python2"
  },
  "language_info": {
   "codemirror_mode": {
    "name": "ipython",
    "version": 2
   },
   "file_extension": ".py",
   "mimetype": "text/x-python",
   "name": "python",
   "nbconvert_exporter": "python",
   "pygments_lexer": "ipython2",
   "version": "2.7.7"
  }
 },
 "nbformat": 4,
 "nbformat_minor": 0
}
