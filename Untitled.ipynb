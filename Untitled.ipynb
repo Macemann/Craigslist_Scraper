{
 "cells": [
  {
   "cell_type": "code",
   "execution_count": 119,
   "metadata": {
    "collapsed": false
   },
   "outputs": [
    {
     "name": "stdout",
     "output_type": "stream",
     "text": [
      "{u'Logan Circle': 'https://washingtondc.craigslist.org/search/apa?query=Logan%20Circle&s=0', u'Shaw': 'https://washingtondc.craigslist.org/search/apa?query=Shaw&s=0', u'Columbia Heights': 'https://washingtondc.craigslist.org/search/apa?query=Columbia%20Heights&s=0', u'National Cathedral': 'https://washingtondc.craigslist.org/search/apa?query=National%20Cathedral&s=0', u'Anacostia': 'https://washingtondc.craigslist.org/search/apa?query=Anacostia&s=0', u'Georgetown': 'https://washingtondc.craigslist.org/search/apa?query=Georgetown&s=0', u'U Street': 'https://washingtondc.craigslist.org/search/apa?query=U%20Street&s=0', u'Downtown': 'https://washingtondc.craigslist.org/search/apa?query=Downtown&s=0', u'Woodley Park': 'https://washingtondc.craigslist.org/search/apa?query=Woodley%20Park&s=0', u'Dupont Circle': 'https://washingtondc.craigslist.org/search/apa?query=Dupont%20Circle&s=0', u'Chinatown': 'https://washingtondc.craigslist.org/search/apa?query=Chinatown&s=0', u'Brookland': 'https://washingtondc.craigslist.org/search/apa?query=Brookland&s=0', u'H Street Corridor': 'https://washingtondc.craigslist.org/search/apa?query=H%20Street%20Corridor&s=0', u'Foggy Bottom': 'https://washingtondc.craigslist.org/search/apa?query=Foggy%20Bottom&s=0', u'Upper Northwest': 'https://washingtondc.craigslist.org/search/apa?query=Upper%20Northwest&s=0', u'NoMa': 'https://washingtondc.craigslist.org/search/apa?query=NoMa&s=0', u'Penn Quarter': 'https://washingtondc.craigslist.org/search/apa?query=Penn%20Quarter&s=0', u'Arts District': 'https://washingtondc.craigslist.org/search/apa?query=Arts%20District&s=0', u'Capitol Hill': 'https://washingtondc.craigslist.org/search/apa?query=Capitol%20Hill&s=0', u'Cleveland Park': 'https://washingtondc.craigslist.org/search/apa?query=Cleveland%20Park&s=0', u'Southwest Waterfront': 'https://washingtondc.craigslist.org/search/apa?query=Southwest%20Waterfront&s=0', u'14th Street': 'https://washingtondc.craigslist.org/search/apa?query=14th%20Street&s=0', u'Capitol Riverfront': 'https://washingtondc.craigslist.org/search/apa?query=Capitol%20Riverfront&s=0', u'Adams Morgan': 'https://washingtondc.craigslist.org/search/apa?query=Adams%20Morgan&s=0'}\n"
     ]
    }
   ],
   "source": [
    "import json\n",
    "from pprint import pprint\n",
    "\n",
    "import re\n",
    "\n",
    "with open('neighborhoods.json') as json_data:\n",
    "    d = json.load(json_data)\n",
    "\n",
    "neighborhoods = []\n",
    "for item in d:\n",
    "    for items in item['aliases']:\n",
    "        neighborhoods.append(items)\n",
    "\n",
    "    \n",
    "for item in d:\n",
    "    neighborhoods.append(item['desc'])\n",
    "    \n",
    "neighborhood_urls = []\n",
    "for item in neighborhoods:\n",
    "    item = re.sub(r\" \",\"%20\",str(item))\n",
    "    item = re.sub(r\"(.*)\",\"https://washingtondc.craigslist.org/search/apa?query=\"+r\"\\1\"+\"&s=0\",str(item))\n",
    "    neighborhood_urls.append(item)\n",
    "\n",
    "dic = dict(zip(neighborhoods, neighborhood_urls))\n",
    "\n",
    "print dic\n",
    "\n",
    "#neighborhood = re.sub(r'.*value=\"(.*)\".*', r'\\1', str(neighborhood))"
   ]
  },
  {
   "cell_type": "code",
   "execution_count": null,
   "metadata": {
    "collapsed": true
   },
   "outputs": [],
   "source": []
  }
 ],
 "metadata": {
  "kernelspec": {
   "display_name": "Python 2",
   "language": "python",
   "name": "python2"
  },
  "language_info": {
   "codemirror_mode": {
    "name": "ipython",
    "version": 2
   },
   "file_extension": ".py",
   "mimetype": "text/x-python",
   "name": "python",
   "nbconvert_exporter": "python",
   "pygments_lexer": "ipython2",
   "version": "2.7.7"
  }
 },
 "nbformat": 4,
 "nbformat_minor": 0
}
