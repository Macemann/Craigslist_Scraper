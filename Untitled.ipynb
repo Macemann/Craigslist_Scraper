{
 "cells": [
  {
   "cell_type": "code",
   "execution_count": 5,
   "metadata": {
    "collapsed": false
   },
   "outputs": [
    {
     "name": "stdout",
     "output_type": "stream",
     "text": [
      "[<span class=\"maptag\" data-pid=\"5206052495\">map</span>, <span class=\"maptag\" data-pid=\"5199277573\">map</span>, <span class=\"maptag\" data-pid=\"5205915706\">map</span>, <span class=\"maptag\" data-pid=\"5200959868\">map</span>, <span class=\"maptag\" data-pid=\"5205715589\">map</span>, <span class=\"maptag\" data-pid=\"5182675957\">map</span>, <span class=\"maptag\" data-pid=\"5201688362\">map</span>, <span class=\"maptag\" data-pid=\"5205124177\">map</span>, <span class=\"maptag\" data-pid=\"5175114269\">map</span>, <span class=\"maptag\" data-pid=\"5182379704\">map</span>, <span class=\"maptag\" data-pid=\"5199035590\">map</span>, <span class=\"maptag\" data-pid=\"5200786582\">map</span>, <span class=\"maptag\" data-pid=\"5204992151\">map</span>, <span class=\"maptag\" data-pid=\"5204894746\">map</span>, <span class=\"maptag\" data-pid=\"5204623496\">map</span>, <span class=\"maptag\" data-pid=\"5204371789\">map</span>, <span class=\"maptag\" data-pid=\"5204289106\">map</span>, <span class=\"maptag\" data-pid=\"5192257186\">map</span>, <span class=\"maptag\" data-pid=\"5186734175\">map</span>, <span class=\"maptag\" data-pid=\"5171049124\">map</span>, <span class=\"maptag\" data-pid=\"5179670393\">map</span>, <span class=\"maptag\" data-pid=\"5203296247\">map</span>, <span class=\"maptag\" data-pid=\"5203225417\">map</span>, <span class=\"maptag\" data-pid=\"5201094074\">map</span>, <span class=\"maptag\" data-pid=\"5157902939\">map</span>, <span class=\"maptag\" data-pid=\"5155392347\">map</span>, <span class=\"maptag\" data-pid=\"5195184060\">map</span>, <span class=\"maptag\" data-pid=\"5173807022\">map</span>, <span class=\"maptag\" data-pid=\"5195197284\">map</span>, <span class=\"maptag\" data-pid=\"5199228558\">map</span>, <span class=\"maptag\" data-pid=\"5199037611\">map</span>, <span class=\"maptag\" data-pid=\"5179460713\">map</span>, <span class=\"maptag\" data-pid=\"5194479038\">map</span>, <span class=\"maptag\" data-pid=\"5204411582\">map</span>, <span class=\"maptag\" data-pid=\"5204360863\">map</span>, <span class=\"maptag\" data-pid=\"5203121189\">map</span>, <span class=\"maptag\" data-pid=\"5196053870\">map</span>, <span class=\"maptag\" data-pid=\"5197873031\">map</span>, <span class=\"maptag\" data-pid=\"5201798921\">map</span>, <span class=\"maptag\" data-pid=\"5175914360\">map</span>, <span class=\"maptag\" data-pid=\"5200238576\">map</span>, <span class=\"maptag\" data-pid=\"5200125212\">map</span>, <span class=\"maptag\" data-pid=\"5194539404\">map</span>, <span class=\"maptag\" data-pid=\"5190821271\">map</span>, <span class=\"maptag\" data-pid=\"5199681855\">map</span>, <span class=\"maptag\" data-pid=\"5176646052\">map</span>, <span class=\"maptag\" data-pid=\"5200728531\">map</span>, <span class=\"maptag\" data-pid=\"5206169430\">map</span>, <span class=\"maptag\" data-pid=\"5180313555\">map</span>, <span class=\"maptag\" data-pid=\"5205989637\">map</span>, <span class=\"maptag\" data-pid=\"5198022017\">map</span>, <span class=\"maptag\" data-pid=\"5198002604\">map</span>, <span class=\"maptag\" data-pid=\"5197928349\">map</span>, <span class=\"maptag\" data-pid=\"5165709438\">map</span>, <span class=\"maptag\" data-pid=\"5173323096\">map</span>, <span class=\"maptag\" data-pid=\"5197653531\">map</span>, <span class=\"maptag\" data-pid=\"5197624341\">map</span>, <span class=\"maptag\" data-pid=\"5173293495\">map</span>, <span class=\"maptag\" data-pid=\"5194100809\">map</span>, <span class=\"maptag\" data-pid=\"5189038941\">map</span>, <span class=\"maptag\" data-pid=\"5168764869\">map</span>, <span class=\"maptag\" data-pid=\"5187763458\">map</span>, <span class=\"maptag\" data-pid=\"5195483352\">map</span>, <span class=\"maptag\" data-pid=\"5204706690\">map</span>, <span class=\"maptag\" data-pid=\"5204584674\">map</span>, <span class=\"maptag\" data-pid=\"5204408787\">map</span>, <span class=\"maptag\" data-pid=\"5204309712\">map</span>, <span class=\"maptag\" data-pid=\"5195082238\">map</span>, <span class=\"maptag\" data-pid=\"5200728477\">map</span>, <span class=\"maptag\" data-pid=\"5196379301\">map</span>, <span class=\"maptag\" data-pid=\"5196250034\">map</span>, <span class=\"maptag\" data-pid=\"5203709079\">map</span>, <span class=\"maptag\" data-pid=\"5203630356\">map</span>, <span class=\"maptag\" data-pid=\"5179976421\">map</span>, <span class=\"maptag\" data-pid=\"5202716580\">map</span>, <span class=\"maptag\" data-pid=\"5188128839\">map</span>, <span class=\"maptag\" data-pid=\"5202417330\">map</span>, <span class=\"maptag\" data-pid=\"5202332088\">map</span>, <span class=\"maptag\" data-pid=\"5154354225\">map</span>, <span class=\"maptag\" data-pid=\"5201905548\">map</span>, <span class=\"maptag\" data-pid=\"5201899539\">map</span>, <span class=\"maptag\" data-pid=\"5183447436\">map</span>, <span class=\"maptag\" data-pid=\"5201793432\">map</span>, <span class=\"maptag\" data-pid=\"5190411592\">map</span>, <span class=\"maptag\" data-pid=\"5201626168\">map</span>, <span class=\"maptag\" data-pid=\"5201462850\">map</span>, <span class=\"maptag\" data-pid=\"5190070542\">map</span>, <span class=\"maptag\" data-pid=\"5156693407\">map</span>, <span class=\"maptag\" data-pid=\"5200764228\">map</span>, <span class=\"maptag\" data-pid=\"5189524689\">map</span>]\n"
     ]
    }
   ],
   "source": [
    "import requests\n",
    "from bs4 import BeautifulSoup\n",
    "\n",
    "url = \"http://washingtondc.craigslist.org/search/apa?query=columbia%20heights&s=0\"\n",
    "r = requests.get(\"http://washingtondc.craigslist.org/search/apa?query=columbia%20heights&s=0\")\n",
    "\n",
    "soup = BeautifulSoup(r.content)\n",
    "\n",
    "g_data = soup.find_all(\"span\", {\"class\": \"maptag\"})\n",
    "print g_data #all content "
   ]
  }
 ],
 "metadata": {
  "kernelspec": {
   "display_name": "Python 2",
   "language": "python",
   "name": "python2"
  },
  "language_info": {
   "codemirror_mode": {
    "name": "ipython",
    "version": 2
   },
   "file_extension": ".py",
   "mimetype": "text/x-python",
   "name": "python",
   "nbconvert_exporter": "python",
   "pygments_lexer": "ipython2",
   "version": "2.7.7"
  }
 },
 "nbformat": 4,
 "nbformat_minor": 0
}
